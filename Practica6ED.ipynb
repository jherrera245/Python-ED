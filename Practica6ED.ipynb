{
 "cells": [
  {
   "cell_type": "code",
   "execution_count": null,
   "metadata": {},
   "outputs": [],
   "source": [
    "class Vehiculo:\n",
    "    def __init__(self, nombre, llantas, modelo, gasolina):\n",
    "        self.nombre = nombre\n",
    "        self.llantas = llantas\n",
    "        self.modelo = modelo\n",
    "        self.estado = estado\n",
    "        self.estado = False\n",
    "    \n",
    "    def setEstado(self, dato):\n",
    "        self.estado = dato\n",
    "    def getEstado(self, dato):\n",
    "        return self.estado\n",
    "    \n",
    "    def encender(self):\n",
    "        if self.getEstado() == False:\n",
    "            self.setEstado(True)\n",
    "            print(self.estadoMotor())\n",
    "        else:\n",
    "            print(\"No se puede encender el vehiculo porque se encuentra apagado\")\n",
    "    \n",
    "    def apagar(self):\n",
    "        if self.getEstado():\n",
    "            self.setEstado(True)\n",
    "            print(self.estadoMotor())\n",
    "        else:\n",
    "            print(\"El vehiculo ya se encuentra apagado, no se puede apagar nuevamente.\")"
   ]
  }
 ],
 "metadata": {
  "kernelspec": {
   "display_name": "Python 3",
   "language": "python",
   "name": "python3"
  },
  "language_info": {
   "codemirror_mode": {
    "name": "ipython",
    "version": 3
   },
   "file_extension": ".py",
   "mimetype": "text/x-python",
   "name": "python",
   "nbconvert_exporter": "python",
   "pygments_lexer": "ipython3",
   "version": "3.8.3"
  }
 },
 "nbformat": 4,
 "nbformat_minor": 4
}
